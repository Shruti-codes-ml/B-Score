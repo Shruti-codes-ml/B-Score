{
 "cells": [
  {
   "cell_type": "markdown",
   "metadata": {},
   "source": [
    "## Data Import and Preprocessing"
   ]
  },
  {
   "cell_type": "code",
   "execution_count": null,
   "metadata": {},
   "outputs": [],
   "source": [
    "#Import necessary libraries\n",
    "import pandas as pd\n",
    "import numpy as np"
   ]
  },
  {
   "cell_type": "code",
   "execution_count": null,
   "metadata": {},
   "outputs": [],
   "source": [
    "#import data\n",
    "i8 = pd.read_excel(r\"C:\\Users\\shrut\\OneDrive\\Desktop\\Training\\B-Score\\data\\i8_cards 2.xlsx\")\n",
    "#i1 = pd.read_excel(r\"C:\\Users\\shrut\\OneDrive\\Desktop\\Training\\B-Score\\data\\i1_card_transaction 2.xlsx\")"
   ]
  },
  {
   "cell_type": "code",
   "execution_count": null,
   "metadata": {},
   "outputs": [],
   "source": [
    "data=i8\n",
    "#data = pd.merge(i8, i1, how='left', on='MASK_CREDITCARD')\n",
    "data"
   ]
  },
  {
   "cell_type": "code",
   "execution_count": null,
   "metadata": {},
   "outputs": [],
   "source": [
    "#data has 142417 rows and 26 columns\n",
    "data.shape"
   ]
  },
  {
   "cell_type": "code",
   "execution_count": null,
   "metadata": {},
   "outputs": [],
   "source": [
    "#change datatype of certain columns to desired datatypes\n",
    "data['NB_DAYS_DELINQ'] = data['NB_DAYS_DELINQ'].astype(str)\n",
    "data['REGIONS'] = data['REGIONS'].astype(str)\n",
    "data['NATIONALITY'] = data['NATIONALITY'].astype(str)\n",
    "data.dtypes"
   ]
  },
  {
   "cell_type": "code",
   "execution_count": null,
   "metadata": {},
   "outputs": [],
   "source": [
    "#examine data\n",
    "data.head()"
   ]
  },
  {
   "cell_type": "code",
   "execution_count": null,
   "metadata": {},
   "outputs": [],
   "source": [
    "#sort data using MASK_CREDITCARD. Within each MASK_CREDITCARD further dort using PERIOD \n",
    "data=data.sort_values(['MASK_CREDITCARD','PERIOD'])"
   ]
  },
  {
   "cell_type": "markdown",
   "metadata": {},
   "source": [
    "### Continuous Reporting\n",
    "\n",
    "Check whether the reporting dates for all accounts are continuous."
   ]
  },
  {
   "cell_type": "code",
   "execution_count": null,
   "metadata": {},
   "outputs": [],
   "source": [
    "#create a list for missing reportings. \n",
    "#check which accounts have missing reportings by compariing expected dates and actual dates\n",
    "#remove accounts having discontinuous reporting\n",
    "\n",
    "missing_reporting=[]\n",
    "for account, group in data.groupby('MASK_CREDITCARD'):\n",
    "    actual_months = group['PERIOD'].dt.to_period('M').unique()\n",
    "    expected_months = pd.period_range(start=group['PERIOD'].min(), end=group['PERIOD'].max(), freq='M')\n",
    "    missing_months = np.setdiff1d(expected_months, actual_months)\n",
    "    if missing_months.size > 0:\n",
    "        missing_reporting.extend([(account, month) for month in missing_months])\n",
    "        #print(missing_reporting)\n",
    "        #print(f\"Missing reporting months for Credit Card ID {account} are : {missing_months}\")\n",
    "\n",
    "for account, month in missing_reporting:\n",
    "    data = data[~(data['MASK_CREDITCARD'] == account)]\n",
    "print(f\"No of unique credit cards : {len(data['MASK_CREDITCARD'].unique())}\")\n",
    "print(f\"No of credit cards with missing reporting : {len(missing_reporting)}\")\n",
    "print(f\"Credit cards with missing reportings : \")\n",
    "missing_reporting_df = pd.DataFrame(missing_reporting, columns=['MASK_CREDITCARD', 'MISSING_MONTHS'])\n",
    "missing_reporting_df"
   ]
  },
  {
   "cell_type": "code",
   "execution_count": null,
   "metadata": {},
   "outputs": [],
   "source": [
    "data.shape #examine shape of new dataset"
   ]
  },
  {
   "cell_type": "markdown",
   "metadata": {},
   "source": [
    "### Missing Data Imputation"
   ]
  },
  {
   "cell_type": "code",
   "execution_count": null,
   "metadata": {},
   "outputs": [],
   "source": [
    "data.isnull().sum() #check the no of missing values in each column"
   ]
  },
  {
   "cell_type": "code",
   "execution_count": null,
   "metadata": {},
   "outputs": [],
   "source": [
    "#impute missing values in numerical variables with 0 \n",
    "#impute missing values in categorical variables with 'MISSING'\n",
    "#check if any more missing values are being identified\n",
    "\n",
    "numeric_cols = data.select_dtypes(include=['number']).columns\n",
    "categorical_cols = data.select_dtypes(include=['object', 'category']).columns\n",
    "print(numeric_cols)\n",
    "print(categorical_cols)\n",
    "data[numeric_cols] = data[numeric_cols].fillna(0)\n",
    "data[categorical_cols] = data[categorical_cols].fillna('MISSING')\n",
    "data.isnull().sum()"
   ]
  },
  {
   "cell_type": "markdown",
   "metadata": {},
   "source": [
    "### Duplicates"
   ]
  },
  {
   "cell_type": "code",
   "execution_count": null,
   "metadata": {},
   "outputs": [],
   "source": [
    "#check if there are any duplicates in the data\n",
    "duplicates = data[data.duplicated()==True]\n",
    "print(duplicates)"
   ]
  },
  {
   "cell_type": "code",
   "execution_count": null,
   "metadata": {},
   "outputs": [],
   "source": [
    "#drop duplicated rows from data\n",
    "data = data.drop_duplicates()\n",
    "data"
   ]
  },
  {
   "cell_type": "markdown",
   "metadata": {},
   "source": [
    "### Impute Date Columns"
   ]
  },
  {
   "cell_type": "code",
   "execution_count": null,
   "metadata": {},
   "outputs": [],
   "source": [
    "#in some cases, reporting date and other dates are in middle of the month. substitute them with dates at end of same month\n",
    "date_columns = ['PERIOD','a_issue_date2','Customer_Join_Date']\n",
    "for col in date_columns:\n",
    "    data[col] = data[col] + pd.offsets.MonthEnd(0)\n",
    "data"
   ]
  },
  {
   "cell_type": "markdown",
   "metadata": {},
   "source": [
    "### Same DPD for same PERIOD and MASK_CREDITCARD "
   ]
  },
  {
   "cell_type": "code",
   "execution_count": null,
   "metadata": {},
   "outputs": [],
   "source": [
    "#check if there are any rows with same MASK_CREDITCARD and same PERIOD which have different DPD Days.\n",
    "#in that case, impute them with max DPD and check once again.\n",
    "\n",
    "duplicate_groups = data.groupby(['PERIOD', 'MASK_CREDITCARD']).filter(lambda x: len(x) > 1)\n",
    "\n",
    "print(\"Rows with the same PERIOD and MASK_CREDITCARD before transformation:\")\n",
    "print(duplicate_groups['NB_DAYS_DELINQ'])"
   ]
  },
  {
   "cell_type": "code",
   "execution_count": null,
   "metadata": {},
   "outputs": [],
   "source": [
    "data['NB_DAYS_DELINQ'] = data.groupby(['PERIOD', 'MASK_CREDITCARD'])['NB_DAYS_DELINQ'].transform('max')"
   ]
  },
  {
   "cell_type": "code",
   "execution_count": null,
   "metadata": {},
   "outputs": [],
   "source": [
    "duplicate_groups = data.groupby(['PERIOD', 'MASK_CREDITCARD']).filter(lambda x: len(x) > 1)\n",
    "\n",
    "print(\"Rows with the same PERIOD and MASK_CREDITCARD after transformation:\")\n",
    "duplicate_groups['NB_DAYS_DELINQ']"
   ]
  },
  {
   "cell_type": "markdown",
   "metadata": {},
   "source": [
    "### Replace values in NB_DAYS_DELINQ that are greater than 4 with '5+'"
   ]
  },
  {
   "cell_type": "code",
   "execution_count": null,
   "metadata": {},
   "outputs": [],
   "source": [
    "data['NB_DAYS_DELINQ'] = data['NB_DAYS_DELINQ'].replace('nan', '0.0').apply(lambda x: '5.0' if (pd.notna(x) and float(x) > 4) else x)\n",
    "data['NB_DAYS_DELINQ'].unique()"
   ]
  },
  {
   "cell_type": "code",
   "execution_count": null,
   "metadata": {},
   "outputs": [],
   "source": [
    "data['NB_DAYS_DELINQ'].value_counts()"
   ]
  },
  {
   "cell_type": "code",
   "execution_count": null,
   "metadata": {},
   "outputs": [],
   "source": [
    "data.drop(index=101839,axis=0,inplace=True)"
   ]
  },
  {
   "cell_type": "code",
   "execution_count": null,
   "metadata": {},
   "outputs": [],
   "source": [
    "data1 = data.copy()"
   ]
  },
  {
   "cell_type": "markdown",
   "metadata": {},
   "source": [
    "## Roll Rate"
   ]
  },
  {
   "cell_type": "code",
   "execution_count": null,
   "metadata": {},
   "outputs": [],
   "source": [
    "#find credit card accounts having atleast 18 months of reporting data. drop accounts which have less than 18  months of data\n",
    "\n",
    "data1['entry_count'] = data1.groupby('MASK_CREDITCARD')['MASK_CREDITCARD'].transform('size')\n",
    "data1 = data1[data1['entry_count'] >= 18].drop(['entry_count'],axis=1)\n",
    "len(data1['MASK_CREDITCARD'].unique())"
   ]
  },
  {
   "cell_type": "code",
   "execution_count": null,
   "metadata": {},
   "outputs": [],
   "source": [
    "data1"
   ]
  },
  {
   "cell_type": "code",
   "execution_count": null,
   "metadata": {},
   "outputs": [],
   "source": [
    "#sort this new data by MASK_CREDITCARD and then further by PERIOD. \n",
    "# divide the data into data from first 9 months and data from 9 to 18 months\n",
    "\n",
    "data1 = data1.sort_values(['MASK_CREDITCARD','PERIOD'])\n",
    "first_9_months = data1.groupby('MASK_CREDITCARD').head(9)\n",
    "next_9_months = data1.groupby('MASK_CREDITCARD').apply(lambda x: x.iloc[9:18]).reset_index(drop=True)\n",
    "\n",
    "#len(next_9_months['MASK_CREDITCARD'].unique())\n",
    "first_9_months"
   ]
  },
  {
   "cell_type": "code",
   "execution_count": null,
   "metadata": {},
   "outputs": [],
   "source": [
    "#create a transition matrix representing the no of accounts that show change in DPD Bucket\n",
    "\n",
    "transition_matrix = pd.crosstab(\n",
    "    first_9_months.groupby('MASK_CREDITCARD')['NB_DAYS_DELINQ'].max(),\n",
    "    next_9_months.groupby('MASK_CREDITCARD')['NB_DAYS_DELINQ'].max(),\n",
    "    rownames=['First 9 months'],\n",
    "    colnames=['Next 9 months']\n",
    ")\n",
    "transition_matrix"
   ]
  },
  {
   "cell_type": "code",
   "execution_count": null,
   "metadata": {},
   "outputs": [],
   "source": [
    "#calculate rolling forward rate and rolling backward rate\n",
    "\n",
    "buckets = ['0.0','1.0','2.0','3.0','4.0','5.0']\n",
    "roll_forward_rates = []\n",
    "for bucket in buckets:\n",
    "    total = transition_matrix.loc[bucket].sum()\n",
    "    forward = transition_matrix.loc[bucket, buckets[buckets.index(bucket)+1:]].sum()\n",
    "    roll_forward_rates.append((forward / total) * 100)\n",
    "#print(roll_forward_rates)\n",
    "\n",
    "buckets = ['0.0','1.0','2.0','3.0','4.0','5.0']\n",
    "roll_backward_rates = []\n",
    "for bucket in buckets:\n",
    "    total = transition_matrix.loc[bucket].sum()\n",
    "    backward = transition_matrix.loc[bucket,buckets[:buckets.index(bucket)]].sum()\n",
    "    roll_backward_rates.append((backward/ total) * 100)\n",
    "#print(roll_backward_rates)\n",
    "\n",
    "roll_rate = pd.DataFrame({'buckets' : buckets, 'roll_forward_rates' : roll_forward_rates, 'roll_backward_rates' : roll_backward_rates})\n",
    "roll_rate"
   ]
  },
  {
   "cell_type": "markdown",
   "metadata": {},
   "source": [
    "## Vintage Analysis"
   ]
  },
  {
   "cell_type": "code",
   "execution_count": null,
   "metadata": {},
   "outputs": [],
   "source": [
    "data2 = data.copy()\n",
    "data2"
   ]
  },
  {
   "cell_type": "code",
   "execution_count": null,
   "metadata": {},
   "outputs": [],
   "source": [
    "data2['First_Reporting'] = data2.groupby('MASK_CREDITCARD')['PERIOD'].transform('min')\n",
    "data2['Default'] = data2['NB_DAYS_DELINQ'].astype(float) >= 4\n",
    "data2['First_Default_Date'] = data2.groupby('MASK_CREDITCARD')['PERIOD'].transform(lambda x: x[data2['Default']].min())\n",
    "data2['Is_First_Default'] = data2['PERIOD'] == data2['First_Default_Date']\n",
    "data2['Months_to_Default'] = np.where(\n",
    "    data2['Is_First_Default'],\n",
    "    (data2['PERIOD'] - data2['First_Reporting']).dt.days // 30,\n",
    "    np.nan\n",
    ")\n",
    "data2['First_Reporting'] = data2.groupby('MASK_CREDITCARD')['PERIOD'].transform('min').dt.year\n",
    "data2"
   ]
  },
  {
   "cell_type": "code",
   "execution_count": null,
   "metadata": {},
   "outputs": [],
   "source": [
    "pivot_table = pd.pivot_table(\n",
    "    data2.dropna(subset=['Months_to_Default']),\n",
    "    values='MASK_CREDITCARD', \n",
    "    index='Months_to_Default',\n",
    "    columns='First_Reporting',\n",
    "    aggfunc='nunique',  \n",
    "    fill_value=0      \n",
    ")\n",
    "pivot_table"
   ]
  },
  {
   "cell_type": "code",
   "execution_count": null,
   "metadata": {},
   "outputs": [],
   "source": [
    "data2['First_Reporting'] = data2.groupby('MASK_CREDITCARD')['PERIOD'].transform('min')\n",
    "data2['Default'] = data2['NB_DAYS_DELINQ'].astype(float) >= 4\n",
    "data2['First_Default_Date'] = data2.groupby('MASK_CREDITCARD')['PERIOD'].transform(lambda x: x[data2['Default']].min())\n",
    "data2['Is_First_Default'] = data2['PERIOD'] == data2['First_Default_Date']\n",
    "data2['Months_to_Default'] = np.where(\n",
    "    data2['Is_First_Default'],\n",
    "    (data2['PERIOD'] - data2['First_Reporting']).dt.days // 30,\n",
    "    np.nan\n",
    ")\n",
    "data2['First_Reporting'] = data2.groupby('MASK_CREDITCARD')['PERIOD'].transform('min').dt.year\n",
    "\n",
    "# Group by Months_to_Default and First_Reporting and count unique MASK_CREDITCARD\n",
    "grouped = data2.dropna(subset=['Months_to_Default']).groupby(['Months_to_Default', 'First_Reporting'])['MASK_CREDITCARD'].nunique().unstack(fill_value=0)\n",
    "\n",
    "total_accounts_per_year = data2.groupby('First_Reporting')['MASK_CREDITCARD'].nunique()\n",
    "normalized_grouped = grouped.divide(total_accounts_per_year, axis=1)\n",
    "\n",
    "cumulative_normalized_grouped = normalized_grouped.cumsum()\n",
    "cumulative_normalized_grouped\n"
   ]
  },
  {
   "cell_type": "code",
   "execution_count": null,
   "metadata": {},
   "outputs": [],
   "source": [
    "import matplotlib.pyplot as plt\n",
    "\n",
    "# Plotting the cumulative sum for each year\n",
    "plt.figure(figsize=(8, 6))\n",
    "\n",
    "for year in cumulative_normalized_grouped.columns[1:] : \n",
    "    plt.plot(\n",
    "        cumulative_normalized_grouped.index,  # Months on x-axis\n",
    "        cumulative_normalized_grouped[year],  # Cumulative sum on y-axis\n",
    "        label=f'Year {year}'  # Label for each year\n",
    "    )\n",
    "\n",
    "# Adding titles and labels\n",
    "plt.title('Cumulative Default Rates Over Time')\n",
    "plt.xlabel('Months to Default')\n",
    "plt.ylabel('Cumulative Sum of Normalized Default Rates')\n",
    "\n",
    "# Adding a legend\n",
    "plt.legend(title='First Reporting Year')\n",
    "\n",
    "# Display the plot\n",
    "plt.grid(True)\n",
    "plt.show()"
   ]
  },
  {
   "cell_type": "markdown",
   "metadata": {},
   "source": [
    "## Bad Flag Creation"
   ]
  },
  {
   "cell_type": "code",
   "execution_count": null,
   "metadata": {},
   "outputs": [],
   "source": [
    "#make a copy of original data\n",
    "data3 = data.copy()\n",
    "# data3"
   ]
  },
  {
   "cell_type": "code",
   "execution_count": null,
   "metadata": {},
   "outputs": [],
   "source": [
    "#check the no of reporting months data available for each account\n",
    "data3['entry_count'] = data3.groupby('MASK_CREDITCARD')['MASK_CREDITCARD'].transform('size')\n",
    "#keep accounts having more than 18 months of reporting data\n",
    "data3 = data3[data3['entry_count'] > 17].drop(['entry_count'],axis=1)\n",
    "#sort data according to MASK_CREDITCARD and PERIOD\n",
    "data3 = data3.sort_values(['MASK_CREDITCARD','PERIOD'])\n",
    "\n",
    "#bad flag creation : check if the particular account has defaulted in the next 12 months and assign bad flag accordingly\n",
    "\n",
    "indexer = pd.api.indexers.FixedForwardWindowIndexer(window_size=12)\n",
    "data3['max_default'] = data3.groupby('MASK_CREDITCARD')['NB_DAYS_DELINQ'].transform(lambda x: x.shift(-1).rolling(window=indexer,min_periods=1).max())\n",
    "data3['Bad_Flag'] = data3['max_default'] >= 4\n",
    "data3['Bad_Flag'].value_counts()\n",
    "\n",
    "#first reporting of each account\n",
    "data3['First_Reporting'] = data3.groupby(\"MASK_CREDITCARD\")['PERIOD'].transform('min')\n",
    "data3['MOB'] = ((data3['PERIOD'].dt.year - data3['First_Reporting'].dt.year)*12 + (data3['PERIOD'].dt.month - data3['First_Reporting'].dt.month)).astype(int)\n",
    "data3[['PERIOD','MOB']]\n",
    "\n",
    "data3_excl1 = data3[data3['MOB'] < 6]\n",
    "data3['Bad_Flag'].value_counts()\n",
    "\n",
    "data3"
   ]
  },
  {
   "cell_type": "code",
   "execution_count": null,
   "metadata": {},
   "outputs": [],
   "source": [
    "excluded_data = data3[ (data3['MOB'] >= 6) & (data3['NB_DAYS_DELINQ'].astype(float) < 4)]\n",
    "excluded_data.loc[:,'NB_DAYS_DELINQ'] = pd.to_numeric(excluded_data['NB_DAYS_DELINQ'], errors='coerce')\n",
    "\n",
    "bscore_df = data3.groupby('PERIOD')['MASK_CREDITCARD'].nunique().reset_index()\n",
    "bscore_df.columns=['PERIOD','Total no of accts']\n",
    "bscore_df['MOB < 6'] = data3[data3['MOB'] < 6].groupby(\"PERIOD\")['MASK_CREDITCARD'].nunique().reset_index()['MASK_CREDITCARD']\n",
    "bscore_df = bscore_df.merge(data3_excl1[data3_excl1['NB_DAYS_DELINQ'].astype(float) >= 4].groupby(\"PERIOD\")['MASK_CREDITCARD'].nunique().rename(\"DPD >= 4\"),on='PERIOD', how='left')\n",
    "bscore_df = bscore_df.merge(data3[ (data3['MOB'] >= 6) & (data3['NB_DAYS_DELINQ'].astype(float) < 4)].groupby(\"PERIOD\")['MASK_CREDITCARD'].nunique().rename(\"Accts after exclusion\"),on='PERIOD', how='left')\n",
    "\n",
    "bscore_df = bscore_df.merge(excluded_data.groupby('PERIOD')['Bad_Flag'].sum().rename(\"Bad\"),on='PERIOD', how='left')\n",
    "bscore_df = bscore_df.merge((excluded_data.groupby('PERIOD')['Bad_Flag'].count() - excluded_data.groupby('PERIOD')['Bad_Flag'].sum()).rename(\"Good\"),on='PERIOD', how='left')\n",
    "bscore_df['Bad Rate (in %)'] = bscore_df['Bad'] * 100 / bscore_df['Accts after exclusion']\n",
    "# bscore_df = bscore_df.fillna(0)\n",
    "bscore_df"
   ]
  },
  {
   "cell_type": "code",
   "execution_count": null,
   "metadata": {},
   "outputs": [],
   "source": [
    "import matplotlib.pyplot as plt\n",
    "\n",
    "# Plotting the cumulative sum for each year\n",
    "plt.figure(figsize=(8, 6))\n",
    "\n",
    " \n",
    "plt.plot(\n",
    "    bscore_df['PERIOD'],  # x-axis\n",
    "    bscore_df['Bad Rate (in %)'], color='orange')  # y-axis\n",
    "\n",
    "\n",
    "# Adding titles and labels\n",
    "plt.title('Bad Rates Over Time')\n",
    "plt.xlabel('Period')\n",
    "plt.ylabel('Bad rates')\n",
    "\n",
    "# Display the plot\n",
    "plt.show()"
   ]
  },
  {
   "cell_type": "markdown",
   "metadata": {},
   "source": [
    "## Variable Creation"
   ]
  },
  {
   "cell_type": "code",
   "execution_count": null,
   "metadata": {},
   "outputs": [],
   "source": [
    "import pandas as pd\n",
    "import numpy as np"
   ]
  },
  {
   "cell_type": "code",
   "execution_count": null,
   "metadata": {},
   "outputs": [],
   "source": [
    "i8 = pd.read_excel(r\"C:\\Users\\shrut\\OneDrive\\Desktop\\Training\\B-Score\\data\\i8_cards 2.xlsx\")\n",
    "i1 = pd.read_excel(r\"C:\\Users\\shrut\\OneDrive\\Desktop\\Training\\B-Score\\data\\i1_card_transaction 2.xlsx\")\n",
    "\n",
    "excluded_data_1 = excluded_data.copy()\n",
    "excluded_data_1['PERIOD'] = pd.to_datetime(excluded_data_1['PERIOD'])\n",
    "excluded_data_1['PERIOD_MONTH'] = excluded_data_1['PERIOD'].dt.month\n",
    "excluded_data_1['PERIOD_YEAR'] = excluded_data_1['PERIOD'].dt.year\n",
    "i1['POST_DATE_AND_TIME'] = pd.to_datetime(i1['POST_DATE_AND_TIME'])\n",
    "i1['POST_MONTH'] = i1['POST_DATE_AND_TIME'].dt.month\n",
    "i1['POST_YEAR'] = i1['POST_DATE_AND_TIME'].dt.year"
   ]
  },
  {
   "cell_type": "code",
   "execution_count": null,
   "metadata": {},
   "outputs": [],
   "source": [
    "merged_data = pd.merge(excluded_data_1, i1, how='left', left_on=['MASK_CREDITCARD','PERIOD_MONTH','PERIOD_YEAR'], right_on=['MASK_CREDITCARD','POST_MONTH','POST_YEAR'])\n",
    "merged_data.shape"
   ]
  },
  {
   "cell_type": "code",
   "execution_count": null,
   "metadata": {},
   "outputs": [],
   "source": [
    "merged_data.head(10000).to_excel(r\"C:\\Users\\shrut\\OneDrive\\Desktop\\Training\\B-Score\\data\\merged_data.xlsx\")"
   ]
  },
  {
   "cell_type": "code",
   "execution_count": null,
   "metadata": {},
   "outputs": [],
   "source": [
    "merged_data.columns"
   ]
  },
  {
   "cell_type": "code",
   "execution_count": null,
   "metadata": {},
   "outputs": [],
   "source": [
    "merged_data.shape"
   ]
  },
  {
   "cell_type": "code",
   "execution_count": null,
   "metadata": {},
   "outputs": [],
   "source": []
  },
  {
   "cell_type": "markdown",
   "metadata": {},
   "source": [
    "### Variable creation - 2"
   ]
  },
  {
   "cell_type": "code",
   "execution_count": 30,
   "metadata": {},
   "outputs": [],
   "source": [
    "import pandas as pd\n",
    "import numpy as np"
   ]
  },
  {
   "cell_type": "code",
   "execution_count": 31,
   "metadata": {},
   "outputs": [],
   "source": [
    "i1 = pd.read_excel(r\"C:\\Users\\shrut\\OneDrive\\Desktop\\Training\\B-Score\\data\\i1_card_transaction 2.xlsx\")\n",
    "merchant_mapping = pd.read_excel(r\"C:\\Users\\shrut\\OneDrive\\Desktop\\Training\\B-Score\\data\\Merchant mapping.xlsx\")"
   ]
  },
  {
   "cell_type": "code",
   "execution_count": 32,
   "metadata": {},
   "outputs": [],
   "source": [
    "transaction_data = i1.copy()\n",
    "mapping_data = merchant_mapping.copy()"
   ]
  },
  {
   "cell_type": "code",
   "execution_count": 33,
   "metadata": {},
   "outputs": [],
   "source": [
    "transaction_data = transaction_data.sort_values(['MASK_CREDITCARD','POST_DATE_AND_TIME'])"
   ]
  },
  {
   "cell_type": "code",
   "execution_count": 34,
   "metadata": {},
   "outputs": [
    {
     "name": "stdout",
     "output_type": "stream",
     "text": [
      "                   Category  MerchantCode\n",
      "0                  Clothing        5137.0\n",
      "1                  Clothing        5611.0\n",
      "2                  Clothing        5621.0\n",
      "3                  Clothing        5631.0\n",
      "4                  Clothing        5641.0\n",
      "..                      ...           ...\n",
      "690               Groceries        5441.0\n",
      "691               Groceries        5451.0\n",
      "692               Groceries        5462.0\n",
      "693               Groceries        5499.0\n",
      "774  Financial Institutions        6012.0\n",
      "\n",
      "[205 rows x 2 columns]\n"
     ]
    }
   ],
   "source": [
    "mapping_data = mapping_data.melt(var_name='Category', value_name='MerchantCode').dropna()\n",
    "print(mapping_data)"
   ]
  },
  {
   "cell_type": "code",
   "execution_count": 35,
   "metadata": {},
   "outputs": [],
   "source": [
    "merchant_dict = mapping_data.set_index('MerchantCode')['Category'].to_dict()\n",
    "transaction_data['Category'] = transaction_data['MERCHANT_CATEGORY'].map(merchant_dict)\n",
    "transaction_data.fillna({'Category' : 'Unknown Category'}, inplace=True)"
   ]
  },
  {
   "cell_type": "code",
   "execution_count": 36,
   "metadata": {},
   "outputs": [
    {
     "data": {
      "text/html": [
       "<div>\n",
       "<style scoped>\n",
       "    .dataframe tbody tr th:only-of-type {\n",
       "        vertical-align: middle;\n",
       "    }\n",
       "\n",
       "    .dataframe tbody tr th {\n",
       "        vertical-align: top;\n",
       "    }\n",
       "\n",
       "    .dataframe thead th {\n",
       "        text-align: right;\n",
       "    }\n",
       "</style>\n",
       "<table border=\"1\" class=\"dataframe\">\n",
       "  <thead>\n",
       "    <tr style=\"text-align: right;\">\n",
       "      <th></th>\n",
       "      <th>Category</th>\n",
       "      <th>MERCHANT_CATEGORY</th>\n",
       "    </tr>\n",
       "  </thead>\n",
       "  <tbody>\n",
       "    <tr>\n",
       "      <th>0</th>\n",
       "      <td>Financial Institutions</td>\n",
       "      <td>6012</td>\n",
       "    </tr>\n",
       "    <tr>\n",
       "      <th>1</th>\n",
       "      <td>Unknown Category</td>\n",
       "      <td>6051</td>\n",
       "    </tr>\n",
       "    <tr>\n",
       "      <th>2</th>\n",
       "      <td>Unknown Category</td>\n",
       "      <td>6051</td>\n",
       "    </tr>\n",
       "    <tr>\n",
       "      <th>3</th>\n",
       "      <td>Unknown Category</td>\n",
       "      <td>6051</td>\n",
       "    </tr>\n",
       "    <tr>\n",
       "      <th>4</th>\n",
       "      <td>Groceries</td>\n",
       "      <td>5411</td>\n",
       "    </tr>\n",
       "    <tr>\n",
       "      <th>...</th>\n",
       "      <td>...</td>\n",
       "      <td>...</td>\n",
       "    </tr>\n",
       "    <tr>\n",
       "      <th>809750</th>\n",
       "      <td>Unknown Category</td>\n",
       "      <td>9399</td>\n",
       "    </tr>\n",
       "    <tr>\n",
       "      <th>809751</th>\n",
       "      <td>Financial Institutions</td>\n",
       "      <td>6012</td>\n",
       "    </tr>\n",
       "    <tr>\n",
       "      <th>809752</th>\n",
       "      <td>Financial Institutions</td>\n",
       "      <td>6012</td>\n",
       "    </tr>\n",
       "    <tr>\n",
       "      <th>809753</th>\n",
       "      <td>Financial Institutions</td>\n",
       "      <td>6012</td>\n",
       "    </tr>\n",
       "    <tr>\n",
       "      <th>809754</th>\n",
       "      <td>Financial Institutions</td>\n",
       "      <td>6012</td>\n",
       "    </tr>\n",
       "  </tbody>\n",
       "</table>\n",
       "<p>809755 rows × 2 columns</p>\n",
       "</div>"
      ],
      "text/plain": [
       "                      Category  MERCHANT_CATEGORY\n",
       "0       Financial Institutions               6012\n",
       "1             Unknown Category               6051\n",
       "2             Unknown Category               6051\n",
       "3             Unknown Category               6051\n",
       "4                    Groceries               5411\n",
       "...                        ...                ...\n",
       "809750        Unknown Category               9399\n",
       "809751  Financial Institutions               6012\n",
       "809752  Financial Institutions               6012\n",
       "809753  Financial Institutions               6012\n",
       "809754  Financial Institutions               6012\n",
       "\n",
       "[809755 rows x 2 columns]"
      ]
     },
     "execution_count": 36,
     "metadata": {},
     "output_type": "execute_result"
    }
   ],
   "source": [
    "transaction_data[['Category','MERCHANT_CATEGORY']]"
   ]
  },
  {
   "cell_type": "code",
   "execution_count": 39,
   "metadata": {},
   "outputs": [
    {
     "data": {
      "text/html": [
       "<div>\n",
       "<style scoped>\n",
       "    .dataframe tbody tr th:only-of-type {\n",
       "        vertical-align: middle;\n",
       "    }\n",
       "\n",
       "    .dataframe tbody tr th {\n",
       "        vertical-align: top;\n",
       "    }\n",
       "\n",
       "    .dataframe thead th {\n",
       "        text-align: right;\n",
       "    }\n",
       "</style>\n",
       "<table border=\"1\" class=\"dataframe\">\n",
       "  <thead>\n",
       "    <tr style=\"text-align: right;\">\n",
       "      <th></th>\n",
       "      <th>MASK_CREDITCARD</th>\n",
       "      <th>POST_DATE_AND_TIME</th>\n",
       "      <th>No_of_transactions</th>\n",
       "      <th>Sum_of_transactions</th>\n",
       "    </tr>\n",
       "  </thead>\n",
       "  <tbody>\n",
       "    <tr>\n",
       "      <th>0</th>\n",
       "      <td>CUKTNSPPNCCCNNNC</td>\n",
       "      <td>2012-11-30</td>\n",
       "      <td>1</td>\n",
       "      <td>10000</td>\n",
       "    </tr>\n",
       "    <tr>\n",
       "      <th>1</th>\n",
       "      <td>CUKTNSPPNCCCNNNC</td>\n",
       "      <td>2013-01-31</td>\n",
       "      <td>1</td>\n",
       "      <td>3000</td>\n",
       "    </tr>\n",
       "    <tr>\n",
       "      <th>2</th>\n",
       "      <td>CUKTNSPPNCCFNNNS</td>\n",
       "      <td>2013-05-31</td>\n",
       "      <td>1</td>\n",
       "      <td>3000</td>\n",
       "    </tr>\n",
       "    <tr>\n",
       "      <th>3</th>\n",
       "      <td>CUKTNSPPNCCNNNNN</td>\n",
       "      <td>2012-11-30</td>\n",
       "      <td>1</td>\n",
       "      <td>8</td>\n",
       "    </tr>\n",
       "    <tr>\n",
       "      <th>4</th>\n",
       "      <td>CUKTNSPPNCCNNNNN</td>\n",
       "      <td>2012-12-31</td>\n",
       "      <td>3</td>\n",
       "      <td>193</td>\n",
       "    </tr>\n",
       "    <tr>\n",
       "      <th>...</th>\n",
       "      <td>...</td>\n",
       "      <td>...</td>\n",
       "      <td>...</td>\n",
       "      <td>...</td>\n",
       "    </tr>\n",
       "    <tr>\n",
       "      <th>83351</th>\n",
       "      <td>FTKUGGWWUNGPNNNT</td>\n",
       "      <td>2012-11-30</td>\n",
       "      <td>1</td>\n",
       "      <td>106</td>\n",
       "    </tr>\n",
       "    <tr>\n",
       "      <th>83352</th>\n",
       "      <td>FTKUGGWWUNGPNNNT</td>\n",
       "      <td>2013-01-31</td>\n",
       "      <td>1</td>\n",
       "      <td>100</td>\n",
       "    </tr>\n",
       "    <tr>\n",
       "      <th>83353</th>\n",
       "      <td>FTKUGGWWUNGPNNNT</td>\n",
       "      <td>2013-02-28</td>\n",
       "      <td>1</td>\n",
       "      <td>100</td>\n",
       "    </tr>\n",
       "    <tr>\n",
       "      <th>83354</th>\n",
       "      <td>FTKUGGWWUNGPNNNT</td>\n",
       "      <td>2013-04-30</td>\n",
       "      <td>1</td>\n",
       "      <td>141</td>\n",
       "    </tr>\n",
       "    <tr>\n",
       "      <th>83355</th>\n",
       "      <td>FTKUGGWWUNGPNNNT</td>\n",
       "      <td>2013-05-31</td>\n",
       "      <td>1</td>\n",
       "      <td>391</td>\n",
       "    </tr>\n",
       "  </tbody>\n",
       "</table>\n",
       "<p>83356 rows × 4 columns</p>\n",
       "</div>"
      ],
      "text/plain": [
       "        MASK_CREDITCARD POST_DATE_AND_TIME  No_of_transactions  \\\n",
       "0      CUKTNSPPNCCCNNNC         2012-11-30                   1   \n",
       "1      CUKTNSPPNCCCNNNC         2013-01-31                   1   \n",
       "2      CUKTNSPPNCCFNNNS         2013-05-31                   1   \n",
       "3      CUKTNSPPNCCNNNNN         2012-11-30                   1   \n",
       "4      CUKTNSPPNCCNNNNN         2012-12-31                   3   \n",
       "...                 ...                ...                 ...   \n",
       "83351  FTKUGGWWUNGPNNNT         2012-11-30                   1   \n",
       "83352  FTKUGGWWUNGPNNNT         2013-01-31                   1   \n",
       "83353  FTKUGGWWUNGPNNNT         2013-02-28                   1   \n",
       "83354  FTKUGGWWUNGPNNNT         2013-04-30                   1   \n",
       "83355  FTKUGGWWUNGPNNNT         2013-05-31                   1   \n",
       "\n",
       "       Sum_of_transactions  \n",
       "0                    10000  \n",
       "1                     3000  \n",
       "2                     3000  \n",
       "3                        8  \n",
       "4                      193  \n",
       "...                    ...  \n",
       "83351                  106  \n",
       "83352                  100  \n",
       "83353                  100  \n",
       "83354                  141  \n",
       "83355                  391  \n",
       "\n",
       "[83356 rows x 4 columns]"
      ]
     },
     "execution_count": 39,
     "metadata": {},
     "output_type": "execute_result"
    }
   ],
   "source": [
    "#process payment\n",
    "payment_data = transaction_data.copy()\n",
    "payment_data['POST_DATE_AND_TIME'] = (payment_data['POST_DATE_AND_TIME'] - pd.DateOffset(months=1)) + pd.offsets.MonthEnd(0)\n",
    "\n",
    "filtered_data = payment_data[\n",
    "    ((payment_data['TRANS_DESCRIPTION'] == 'Card Payment') | (payment_data['TRANS_DESCRIPTION'] == 'Payment')) &\n",
    "    (payment_data['REVERSAL_FLAG'] == 'N')\n",
    "]\n",
    "\n",
    "payment_values = filtered_data.groupby(['MASK_CREDITCARD','POST_DATE_AND_TIME']).agg(\n",
    "    No_of_transactions=('AMOUNT_IN_LCY', 'size'),  # Count the number of transactions\n",
    "    Sum_of_transactions=('AMOUNT_IN_LCY', 'sum')  # Sum the transaction amounts\n",
    ").reset_index()\n",
    "\n",
    "payment_values"
   ]
  },
  {
   "cell_type": "code",
   "execution_count": 40,
   "metadata": {},
   "outputs": [
    {
     "data": {
      "text/html": [
       "<div>\n",
       "<style scoped>\n",
       "    .dataframe tbody tr th:only-of-type {\n",
       "        vertical-align: middle;\n",
       "    }\n",
       "\n",
       "    .dataframe tbody tr th {\n",
       "        vertical-align: top;\n",
       "    }\n",
       "\n",
       "    .dataframe thead th {\n",
       "        text-align: right;\n",
       "    }\n",
       "</style>\n",
       "<table border=\"1\" class=\"dataframe\">\n",
       "  <thead>\n",
       "    <tr style=\"text-align: right;\">\n",
       "      <th></th>\n",
       "      <th>MASK_CREDITCARD</th>\n",
       "      <th>POST_DATE_AND_TIME</th>\n",
       "      <th>No_of_transactions</th>\n",
       "      <th>Sum_of_transactions</th>\n",
       "    </tr>\n",
       "  </thead>\n",
       "  <tbody>\n",
       "    <tr>\n",
       "      <th>0</th>\n",
       "      <td>CUKTNSPPNCCCNNNC</td>\n",
       "      <td>2012-11-30</td>\n",
       "      <td>3</td>\n",
       "      <td>15000</td>\n",
       "    </tr>\n",
       "    <tr>\n",
       "      <th>1</th>\n",
       "      <td>CUKTNSPPNCCCNNNC</td>\n",
       "      <td>2012-12-31</td>\n",
       "      <td>3</td>\n",
       "      <td>11000</td>\n",
       "    </tr>\n",
       "    <tr>\n",
       "      <th>2</th>\n",
       "      <td>CUKTNSPPNCCKNUTW</td>\n",
       "      <td>2013-02-28</td>\n",
       "      <td>2</td>\n",
       "      <td>3618</td>\n",
       "    </tr>\n",
       "    <tr>\n",
       "      <th>3</th>\n",
       "      <td>CUKTNSPPNCCNNNNN</td>\n",
       "      <td>2013-01-31</td>\n",
       "      <td>1</td>\n",
       "      <td>5000</td>\n",
       "    </tr>\n",
       "    <tr>\n",
       "      <th>4</th>\n",
       "      <td>CUKTNSPPNCCNNNNN</td>\n",
       "      <td>2013-02-28</td>\n",
       "      <td>3</td>\n",
       "      <td>4500</td>\n",
       "    </tr>\n",
       "    <tr>\n",
       "      <th>...</th>\n",
       "      <td>...</td>\n",
       "      <td>...</td>\n",
       "      <td>...</td>\n",
       "      <td>...</td>\n",
       "    </tr>\n",
       "    <tr>\n",
       "      <th>22014</th>\n",
       "      <td>FTKUGGWWSFWGNNNF</td>\n",
       "      <td>2012-10-31</td>\n",
       "      <td>3</td>\n",
       "      <td>6000</td>\n",
       "    </tr>\n",
       "    <tr>\n",
       "      <th>22015</th>\n",
       "      <td>FTKUGGWWSFWGNNNF</td>\n",
       "      <td>2012-12-31</td>\n",
       "      <td>1</td>\n",
       "      <td>100</td>\n",
       "    </tr>\n",
       "    <tr>\n",
       "      <th>22016</th>\n",
       "      <td>FTKUGGWWSFWGNNNF</td>\n",
       "      <td>2013-02-28</td>\n",
       "      <td>1</td>\n",
       "      <td>200</td>\n",
       "    </tr>\n",
       "    <tr>\n",
       "      <th>22017</th>\n",
       "      <td>FTKUGGWWUFFSNNNW</td>\n",
       "      <td>2012-03-31</td>\n",
       "      <td>2</td>\n",
       "      <td>1400</td>\n",
       "    </tr>\n",
       "    <tr>\n",
       "      <th>22018</th>\n",
       "      <td>FTKUGGWWUFFSNNNW</td>\n",
       "      <td>2012-07-31</td>\n",
       "      <td>1</td>\n",
       "      <td>1000</td>\n",
       "    </tr>\n",
       "  </tbody>\n",
       "</table>\n",
       "<p>22019 rows × 4 columns</p>\n",
       "</div>"
      ],
      "text/plain": [
       "        MASK_CREDITCARD POST_DATE_AND_TIME  No_of_transactions  \\\n",
       "0      CUKTNSPPNCCCNNNC         2012-11-30                   3   \n",
       "1      CUKTNSPPNCCCNNNC         2012-12-31                   3   \n",
       "2      CUKTNSPPNCCKNUTW         2013-02-28                   2   \n",
       "3      CUKTNSPPNCCNNNNN         2013-01-31                   1   \n",
       "4      CUKTNSPPNCCNNNNN         2013-02-28                   3   \n",
       "...                 ...                ...                 ...   \n",
       "22014  FTKUGGWWSFWGNNNF         2012-10-31                   3   \n",
       "22015  FTKUGGWWSFWGNNNF         2012-12-31                   1   \n",
       "22016  FTKUGGWWSFWGNNNF         2013-02-28                   1   \n",
       "22017  FTKUGGWWUFFSNNNW         2012-03-31                   2   \n",
       "22018  FTKUGGWWUFFSNNNW         2012-07-31                   1   \n",
       "\n",
       "       Sum_of_transactions  \n",
       "0                    15000  \n",
       "1                    11000  \n",
       "2                     3618  \n",
       "3                     5000  \n",
       "4                     4500  \n",
       "...                    ...  \n",
       "22014                 6000  \n",
       "22015                  100  \n",
       "22016                  200  \n",
       "22017                 1400  \n",
       "22018                 1000  \n",
       "\n",
       "[22019 rows x 4 columns]"
      ]
     },
     "execution_count": 40,
     "metadata": {},
     "output_type": "execute_result"
    }
   ],
   "source": [
    "#process withdrawals\n",
    "withdrawal_data = transaction_data.copy()\n",
    "withdrawal_data['POST_DATE_AND_TIME'] = withdrawal_data['POST_DATE_AND_TIME'] + pd.offsets.MonthEnd(0)\n",
    "\n",
    "filtered_data = withdrawal_data[\n",
    "    ((withdrawal_data['TRANS_DESCRIPTION'] == 'Cash Advance') | (withdrawal_data['TRANS_DESCRIPTION'] == 'CASH ADVANCE') | (withdrawal_data['TRANS_DESCRIPTION'] == 'WITHDRAWAL') | (withdrawal_data['TRANS_DESCRIPTION'] == 'Withdrawal')) &\n",
    "    (withdrawal_data['REVERSAL_FLAG'] == 'N')\n",
    "]\n",
    "\n",
    "withdrawal_values = filtered_data.groupby(['MASK_CREDITCARD','POST_DATE_AND_TIME']).agg(\n",
    "    No_of_transactions=('AMOUNT_IN_LCY', 'size'),  # Count the number of transactions\n",
    "    Sum_of_transactions=('AMOUNT_IN_LCY', 'sum')  # Sum the transaction amounts\n",
    ").reset_index()\n",
    "\n",
    "withdrawal_values"
   ]
  },
  {
   "cell_type": "code",
   "execution_count": 41,
   "metadata": {},
   "outputs": [
    {
     "data": {
      "text/html": [
       "<div>\n",
       "<style scoped>\n",
       "    .dataframe tbody tr th:only-of-type {\n",
       "        vertical-align: middle;\n",
       "    }\n",
       "\n",
       "    .dataframe tbody tr th {\n",
       "        vertical-align: top;\n",
       "    }\n",
       "\n",
       "    .dataframe thead th {\n",
       "        text-align: right;\n",
       "    }\n",
       "</style>\n",
       "<table border=\"1\" class=\"dataframe\">\n",
       "  <thead>\n",
       "    <tr style=\"text-align: right;\">\n",
       "      <th></th>\n",
       "      <th>MASK_CREDITCARD</th>\n",
       "      <th>POST_DATE_AND_TIME</th>\n",
       "      <th>No_of_transactions</th>\n",
       "      <th>Sum_of_transactions</th>\n",
       "    </tr>\n",
       "  </thead>\n",
       "  <tbody>\n",
       "    <tr>\n",
       "      <th>0</th>\n",
       "      <td>CUKTNSPPNCCCNNNC</td>\n",
       "      <td>2012-12-31</td>\n",
       "      <td>1</td>\n",
       "      <td>100</td>\n",
       "    </tr>\n",
       "    <tr>\n",
       "      <th>1</th>\n",
       "      <td>CUKTNSPPNCCCNNNC</td>\n",
       "      <td>2013-01-31</td>\n",
       "      <td>1</td>\n",
       "      <td>100</td>\n",
       "    </tr>\n",
       "    <tr>\n",
       "      <th>2</th>\n",
       "      <td>CUKTNSPPNCCCNNNC</td>\n",
       "      <td>2013-02-28</td>\n",
       "      <td>1</td>\n",
       "      <td>100</td>\n",
       "    </tr>\n",
       "    <tr>\n",
       "      <th>3</th>\n",
       "      <td>CUKTNSPPNCCCNNNC</td>\n",
       "      <td>2013-04-30</td>\n",
       "      <td>1</td>\n",
       "      <td>100</td>\n",
       "    </tr>\n",
       "    <tr>\n",
       "      <th>4</th>\n",
       "      <td>CUKTNSPPNCCCNNNC</td>\n",
       "      <td>2013-05-31</td>\n",
       "      <td>1</td>\n",
       "      <td>100</td>\n",
       "    </tr>\n",
       "    <tr>\n",
       "      <th>...</th>\n",
       "      <td>...</td>\n",
       "      <td>...</td>\n",
       "      <td>...</td>\n",
       "      <td>...</td>\n",
       "    </tr>\n",
       "    <tr>\n",
       "      <th>35556</th>\n",
       "      <td>FTKUGGWWUFFSNNNW</td>\n",
       "      <td>2012-06-30</td>\n",
       "      <td>1</td>\n",
       "      <td>100</td>\n",
       "    </tr>\n",
       "    <tr>\n",
       "      <th>35557</th>\n",
       "      <td>FTKUGGWWUFFSNNNW</td>\n",
       "      <td>2012-08-31</td>\n",
       "      <td>1</td>\n",
       "      <td>100</td>\n",
       "    </tr>\n",
       "    <tr>\n",
       "      <th>35558</th>\n",
       "      <td>FTKUGGWWUFFSNNNW</td>\n",
       "      <td>2012-12-31</td>\n",
       "      <td>1</td>\n",
       "      <td>100</td>\n",
       "    </tr>\n",
       "    <tr>\n",
       "      <th>35559</th>\n",
       "      <td>FTKUGGWWUFFSNNNW</td>\n",
       "      <td>2013-03-31</td>\n",
       "      <td>1</td>\n",
       "      <td>100</td>\n",
       "    </tr>\n",
       "    <tr>\n",
       "      <th>35560</th>\n",
       "      <td>FTKUGGWWUFFSNNNW</td>\n",
       "      <td>2013-04-30</td>\n",
       "      <td>1</td>\n",
       "      <td>100</td>\n",
       "    </tr>\n",
       "  </tbody>\n",
       "</table>\n",
       "<p>35561 rows × 4 columns</p>\n",
       "</div>"
      ],
      "text/plain": [
       "        MASK_CREDITCARD POST_DATE_AND_TIME  No_of_transactions  \\\n",
       "0      CUKTNSPPNCCCNNNC         2012-12-31                   1   \n",
       "1      CUKTNSPPNCCCNNNC         2013-01-31                   1   \n",
       "2      CUKTNSPPNCCCNNNC         2013-02-28                   1   \n",
       "3      CUKTNSPPNCCCNNNC         2013-04-30                   1   \n",
       "4      CUKTNSPPNCCCNNNC         2013-05-31                   1   \n",
       "...                 ...                ...                 ...   \n",
       "35556  FTKUGGWWUFFSNNNW         2012-06-30                   1   \n",
       "35557  FTKUGGWWUFFSNNNW         2012-08-31                   1   \n",
       "35558  FTKUGGWWUFFSNNNW         2012-12-31                   1   \n",
       "35559  FTKUGGWWUFFSNNNW         2013-03-31                   1   \n",
       "35560  FTKUGGWWUFFSNNNW         2013-04-30                   1   \n",
       "\n",
       "       Sum_of_transactions  \n",
       "0                      100  \n",
       "1                      100  \n",
       "2                      100  \n",
       "3                      100  \n",
       "4                      100  \n",
       "...                    ...  \n",
       "35556                  100  \n",
       "35557                  100  \n",
       "35558                  100  \n",
       "35559                  100  \n",
       "35560                  100  \n",
       "\n",
       "[35561 rows x 4 columns]"
      ]
     },
     "execution_count": 41,
     "metadata": {},
     "output_type": "execute_result"
    }
   ],
   "source": [
    "#process late fees\n",
    "latefees_data = transaction_data.copy()\n",
    "latefees_data['POST_DATE_AND_TIME'] = (latefees_data['POST_DATE_AND_TIME'] - pd.DateOffset(months=1)) + pd.offsets.MonthEnd(0)\n",
    "\n",
    "filtered_data = latefees_data[\n",
    "    ((latefees_data['TRANS_DESCRIPTION'] == 'Late Payment Charges')) &\n",
    "    (latefees_data['REVERSAL_FLAG'] == 'N')\n",
    "]\n",
    "\n",
    "latefees_values = filtered_data.groupby(['MASK_CREDITCARD','POST_DATE_AND_TIME']).agg(\n",
    "    No_of_transactions=('AMOUNT_IN_LCY', 'size'),  # Count the number of transactions\n",
    "    Sum_of_transactions=('AMOUNT_IN_LCY', 'sum')  # Sum the transaction amounts\n",
    ").reset_index()\n",
    "\n",
    "latefees_values"
   ]
  }
 ],
 "metadata": {
  "kernelspec": {
   "display_name": "bscoreenv",
   "language": "python",
   "name": "python3"
  },
  "language_info": {
   "codemirror_mode": {
    "name": "ipython",
    "version": 3
   },
   "file_extension": ".py",
   "mimetype": "text/x-python",
   "name": "python",
   "nbconvert_exporter": "python",
   "pygments_lexer": "ipython3",
   "version": "3.12.3"
  }
 },
 "nbformat": 4,
 "nbformat_minor": 2
}
